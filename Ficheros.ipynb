{
  "nbformat": 4,
  "nbformat_minor": 0,
  "metadata": {
    "colab": {
      "name": "Ficheros.ipynb",
      "provenance": [],
      "collapsed_sections": [],
      "authorship_tag": "ABX9TyPiCYQtS8VTMX5n4XCCgDtO",
      "include_colab_link": true
    },
    "kernelspec": {
      "name": "python3",
      "display_name": "Python 3"
    },
    "language_info": {
      "name": "python"
    }
  },
  "cells": [
    {
      "cell_type": "markdown",
      "metadata": {
        "id": "view-in-github",
        "colab_type": "text"
      },
      "source": [
        "<a href=\"https://colab.research.google.com/github/RobertoChavez01/Prog-22/blob/main/Ficheros.ipynb\" target=\"_parent\"><img src=\"https://colab.research.google.com/assets/colab-badge.svg\" alt=\"Open In Colab\"/></a>"
      ]
    },
    {
      "cell_type": "code",
      "source": [
        "nombre=input('Ingrese su nombre: ')\n",
        "edad=input('Edad: ')\n",
        "direcc=input('dirección: ')\n",
        "tel=input('teléfono: ')\n",
        "values=[nombre,edad,direcc,tel]\n",
        "dicc_f={}\n",
        "for keys in range(len(values)):\n",
        "  dicc_f[keys]=values[keys]\n",
        "print(values[0],'tiene',values[1],'años, vive en la',values[2],'y su número de teléfono es',values[3])"
      ],
      "metadata": {
        "colab": {
          "base_uri": "https://localhost:8080/"
        },
        "id": "8ljdc_TzraaV",
        "outputId": "15578ec8-1d84-43c6-b644-bb144da4e51e"
      },
      "execution_count": null,
      "outputs": [
        {
          "output_type": "stream",
          "name": "stdout",
          "text": [
            "Ingrese su nombre: Roberto Chavez S.\n",
            "Edad: 20\n",
            "dirección: Carrera 38a # 25b - 17\n",
            "teléfono: 3118760572\n",
            "Roberto Chavez S. tiene 20 años, vive en la Carrera 38a # 25b - 17 y su número de teléfono es 3118760572\n"
          ]
        }
      ]
    },
    {
      "cell_type": "code",
      "source": [
        "date=input('Ingrese fecha actual \"dd/mm/aaaa\": ')\n",
        "born=input('ingrese fecha de nacimiento \"dd/mm/aaaa\": ')\n",
        "meses={1:'Enero',2:'Febrero',3:'Marzo',4:'Abril',5:'Mayo',6:'junio',7:'Julio',8:'Agosto',9:'Septiembre',10:'Octubre',11:'Noviembre',12:'Diciembre'}\n",
        "dias_1=int(date[0:2])+int(date[3:5])*30+int(date[6:])*365\n",
        "dias_2=int(born[0:2])+int(born[3:5])*30+int(born[6:])*365\n",
        "dia=date[0:2]\n",
        "mes=int(date[3:5])\n",
        "año=date[6:]\n",
        "for i,k in meses.items():\n",
        "  if i==mes:\n",
        "    aux=k\n",
        "print(dia,'de',aux,'de',año,'y sus días de vida son',dias_1-dias_2)"
      ],
      "metadata": {
        "colab": {
          "base_uri": "https://localhost:8080/"
        },
        "id": "oFePXG4kz9uJ",
        "outputId": "b5fba7ef-5090-46b1-8d93-662740e1753a"
      },
      "execution_count": null,
      "outputs": [
        {
          "output_type": "stream",
          "name": "stdout",
          "text": [
            "Ingrese fecha actual \"dd/mm/aaaa\": 08/06/2022\n",
            "ingrese fecha de nacimiento \"dd/mm/aaaa\": 21/12/2001\n",
            "08 de junio de 2022 y sus días de vida son 7472\n"
          ]
        }
      ]
    }
  ]
}